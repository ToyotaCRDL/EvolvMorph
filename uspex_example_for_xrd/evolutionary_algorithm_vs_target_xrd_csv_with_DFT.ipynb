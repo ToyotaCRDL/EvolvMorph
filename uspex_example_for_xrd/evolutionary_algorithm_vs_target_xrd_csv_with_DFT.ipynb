{
 "cells": [
  {
   "cell_type": "markdown",
   "id": "3f69de49-45dc-42e2-b84e-a16352a31091",
   "metadata": {},
   "source": [
    "## Evolutionary algorithm (USPEX) for target XRD csv file (with DFT (ex- VASP code))"
   ]
  },
  {
   "cell_type": "markdown",
   "id": "08d67ad9-e8c2-4706-b75f-a5258f83ff86",
   "metadata": {},
   "source": [
    "### Setting for USPEX in local PC <->VASP in supercomputer connection without typing password\n",
    "\n",
    "This procedure is necessary for using USPEX with DFT structural optimization commonly performed in another cluster machine.\n",
    "\n",
    "Make key of computer with USPEX\n",
    "> ssh-keygen -t rsa -q -f ~/.ssh/id_rsa -N \"\"\n",
    "\n",
    "Copy the generated key to target supercomputer with VASP code (in case the generated key was not registered in ~/.ssh/authorized_keys in host supercomputer)\n",
    "> ssh-copy-id -i ~/.ssh/id_rsa.pub [id@supercomputer IP or address]\n",
    "\n",
    "Then, type [yes], and insert password for supercomputer.<br>\n",
    "After doing this, typing password is skipped to login to supercomputer.<br>\n",
    "This is essential for sending and bringing VASP results automatically.<br>"
   ]
  },
  {
   "cell_type": "markdown",
   "id": "64eab6b3-125c-403e-b7bc-fd3ea10641f2",
   "metadata": {},
   "source": [
    "\n",
    "### Setting for USPEX in local PC <->VASP in supercomputer connection: modifying files in uspex/src/Submission/ folder\n",
    "\n",
    "Three files, checkStatus_remote.m, submitJob_remote.m, checkStatusC.m in Submission folder should be modified.<br>\n",
    "<br>\n",
    "They must be adapted for user environement. <br>\n",
    "<br>\n",
    "USPEX makes each generation (structure) ID and send it to supercomputer.<br>\n",
    "Then, supercomputer queue system makes job ID. <br>\n",
    "USPEX generation ID - supercomputer queue system job ID should be matched well. <br>\n",
    "USPEX frequnetly checks that job ID is displayed as pending/running in supercomputer queue system.<br>\n",
    "Then, when the job ID disappears on the queue system, USPEX judges whether the VASP calculation was finished and copy back it to USPEX.<br>\n",
    "Therefore, the format of display of pending/running on queue system should be carefully checked and reflected to checkStatus_remote.m & submitJob_remote.m. <br>\n",
    "Unfortunately, supercomputer queue environement are different (for example, pbs, slurm, ...), so it is needed to set individually.<br>\n",
    "The followings are example:\n",
    "\n",
    "- checkStatus_remote.m <br>\n",
    "  At 10th row, Home : Insert home directory of supercomputer <br>\n",
    "  At 11th row, Address : Insert [ID@supercomputer IP or address] <br>\n",
    "  At 15th row : need to check qstat (display queue status) is available  (slurm case : squeue) <br>\n",
    "  At 18th & 21th row : need to check that running/pending status on queue system is well captured. <br>\n",
    "      It depends on type of queue system. <br>\n",
    "    \n",
    "    \n",
    "- submitJob_remote.m\n",
    "  Sun grid queue system information : https://bioinformatics.mdc-berlin.de/intro2UnixandSGE/sun_grid_engine_for_beginners/how_to_submit_a_job_using_qsub.html <br>\n",
    "  Detailed modifications might be necessary. <br>\n",
    "  At 26-36th row : setting for shell-script for VASP <br>\n",
    "    32nd row : Specify maximum run time (short time such as 10 minutes could be better for ignoring nonsense unstable structures) <br>\n",
    "    34th row : Need to check VASP is well executed. <br>\n",
    "  At 51st row, Home : Insert home directory of supercomputer <br>\n",
    "  At 52nd row, Address : Insert [ID@supercomputer IP or address] <br>\n",
    "  At 89th row, need to check qsub is well set up.  (slurm case : sbatch) <br>\n",
    "  At 100th row, need to check job ID is well captured. <br>\n",
    "    It depends on type of queue system. <br>\n",
    "\n",
    "When USPEX is running, /Submission folder is automatically copied to the USPEX-running folder. <br>\n",
    "The Submission folder in USPEX-running folder is read in prior to USPEX-source folder, ~/uspex/src/Submission/. <br>\n",
    "\n"
   ]
  },
  {
   "cell_type": "markdown",
   "id": "3f3f648f-b315-40c3-86d5-a34d44bdb801",
   "metadata": {},
   "source": [
    "### Addiotional procedure for with VASP : check INPUT.txt\n",
    " \n",
    "INPUT.txt includes various input parameters for USPEX. <br>\n",
    ": same as without DFT case. Just need more VASP-related input in INPUT.txt as following:<br>\n",
    "<br>\n",
    "\n",
    "- **abinitioCode** : set 1 <br>\n",
    "  0 : no DFT, 1 : VASP\n",
    "  \n",
    "- **KresolStart** : k-point density\n",
    "\n",
    "- **whichCluster** : set 2 <br>\n",
    "  0 : local PC, 2 : supercomputer (remote)\n",
    "\n",
    "- **numParallelCalcs** : # of parallel calculations for supercomputer\n",
    "\n",
    "- **remoteFolder** : remote folder at supercomputer\n"
   ]
  },
  {
   "cell_type": "markdown",
   "id": "e09b15ad-c6ca-4169-b834-371c04f86cff",
   "metadata": {},
   "source": [
    "### Check Specific folder (additional information for VASP)\n",
    "\n",
    "- In Specific folder, xrd target csv file is located. (xrd_target.csv) <br>\n",
    "<br>\n",
    "- Prepare INCAR as INCAR_1 in ./Specific folder. <br> \n",
    "If multiple VASP calculations are needed, prepare INCAR_1, INCAR_2, ..., INCAR_N, and set KresolStart in INPUT.txt with multiple numbers.<br>\n",
    " <br>\n",
    "- In addition, prepare POTCARs with each element with name in ./Specific folder.  (e.g.) POTCAR_Mg, POTCAR_O   <br>\n",
    "<br>\n"
   ]
  },
  {
   "cell_type": "markdown",
   "id": "3033de24-76b0-47b5-bef7-4da189d69d76",
   "metadata": {},
   "source": [
    "### RUN VASP : same as without DFT case\n"
   ]
  },
  {
   "cell_type": "markdown",
   "id": "4d065a31-5aa1-4e5f-b36d-4d265002edce",
   "metadata": {},
   "source": [
    "### When USPEX with VASP does not work well...\n",
    "\n",
    "There are many patterns that USPEX does no work well.\n",
    "\n",
    "- bad connection with supercomputer\n",
    "\n",
    "In my experience, a bad connection with supercomputer for VASP made many problems.\n",
    "\n",
    "In the errored case, check files in Submission folder, and remove the failed files and run again.\n",
    "\n",
    "In addition, sometimes bad initial structure for VASP generates CONTCAR including strange lattice parameter with too large digit.\n",
    "\n",
    "- strange CONTCAR because of structural optimization from strange initial structure\n",
    "\n",
    "CONTCAR file have strange latice parameter matrix such as too large number without space\n",
    "\n",
    "In that case, copy POSCAR to CONTCAR, and continue running USPEX. \n",
    "\n",
    "USPEX will load unoptimized CONTCAR file and go to investigate the next structure file."
   ]
  },
  {
   "cell_type": "code",
   "execution_count": null,
   "id": "5c060865",
   "metadata": {},
   "outputs": [],
   "source": []
  }
 ],
 "metadata": {
  "kernelspec": {
   "display_name": "Python 3 (ipykernel)",
   "language": "python",
   "name": "python3"
  },
  "language_info": {
   "codemirror_mode": {
    "name": "ipython",
    "version": 3
   },
   "file_extension": ".py",
   "mimetype": "text/x-python",
   "name": "python",
   "nbconvert_exporter": "python",
   "pygments_lexer": "ipython3",
   "version": "3.7.12"
  }
 },
 "nbformat": 4,
 "nbformat_minor": 5
}
