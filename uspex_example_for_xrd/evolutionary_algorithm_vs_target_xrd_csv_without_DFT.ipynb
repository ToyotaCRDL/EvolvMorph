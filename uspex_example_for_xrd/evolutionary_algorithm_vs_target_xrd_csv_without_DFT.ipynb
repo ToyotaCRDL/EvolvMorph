{
 "cells": [
  {
   "cell_type": "markdown",
   "id": "b76bb217-c14d-438a-aef7-7be8fa0dc005",
   "metadata": {},
   "source": [
    "## Evolutionary algorithm (USPEX) for target XRD csv file (without DFT)"
   ]
  },
  {
   "cell_type": "code",
   "execution_count": 1,
   "id": "2c2bd11a-b664-4225-8bc4-e0f1d0479b82",
   "metadata": {},
   "outputs": [
    {
     "name": "stdout",
     "output_type": "stream",
     "text": [
      "INPUT.txt\t    additional_INPUT.csv\r\n",
      "INPUT_with_DFT.txt  evolutionary_algorithm_vs_target_xrd_csv_with_DFT.ipynb\r\n",
      "INST_XRY.PRM\t    evolutionary_algorithm_vs_target_xrd_csv_without_DFT.ipynb\r\n",
      "Seeds\t\t    ux-test.sh\r\n",
      "Specific\r\n"
     ]
    }
   ],
   "source": [
    "!ls"
   ]
  },
  {
   "cell_type": "markdown",
   "id": "7b912c3c-6ddf-4e85-994b-e0451bbed4b4",
   "metadata": {
    "tags": []
   },
   "source": [
    "### Check INPUT.txt\n",
    "\n",
    "INPUT.txt includes various input parameters for USPEX code.<br>\n",
    "\n",
    "For the detail, read original USPEX manual. <br>\n",
    "\n",
    "- **optType** : optmization function. <br>\n",
    "  negative sign : maximization, positive sign : minimization <br>\n",
    "  -104 : optimizing (maximizing) cos-similarity of XRD similarity vs. target XRD from cif (./Specific/xrd_target.cif) <br> \n",
    "  -105 : optimizing (maximizing) cos-similarity of XRD similarity vs. target XRD csv (./Specific/xrd_target.csv) <br>\n",
    "  1 : enthalpy, ... (see USPEX manual)\n",
    "<br>\n",
    "- **atomType**\n",
    "  Element1 Element2 ... Element-N\n",
    "  ex) Mg O\n",
    "<br>\n",
    "- **numSpecies**\n",
    "  #ofElement1 #ofElement2 ... #ofElement-N\n",
    "  ex) 4 4\n",
    "<br>\n",
    "- **populationSize** : # of structures in one generation\n",
    "<br>\n",
    "- **initialPopSize** : # of structures in 1st generation\n",
    "<br>\n",
    "- **numGenerations** : # of generations\n",
    "<br>\n",
    "- **stopCrit** : Stop crieterion for # of generations when the best fitness is not changed.\n",
    "<br>\n",
    "- **fracGene** : fraction for heredity\n",
    "<br>\n",
    "- **fracRand** : fraction of random consruction\n",
    "<br>\n",
    "- **fracAtomsMut** : fraction of atom mutation (without DFT case, this must be 0 (loop error). Only turn on for with DFT case.)\n",
    "<br>\n",
    "- **fracPerm** : fraction of permutation <br>\n",
    "  Total of above genetic operation is 1.00.\n",
    "<br>\n",
    "- **bestFrac** : choosing best fraction for using next generation\n",
    "<br>\n",
    "- **IonDistances** : minimum interatomic distance matrix\n",
    "<br>\n",
    "- **symmetries** : space group for random structures\n",
    "<br>\n",
    "- **abinitioCode** : set 0 <br>\n",
    "  0 : no DFT, 1 : VASP\n",
    "<br>\n",
    "- **whichCluster** : set 0\n",
    "  0 : local PC, 2 : supercomputer (remote)"
   ]
  },
  {
   "cell_type": "markdown",
   "id": "bd49e52d-9fa2-4085-94a7-974f61037da7",
   "metadata": {},
   "source": [
    "### Prepare additional_INPUT.csv\n",
    "\n",
    "- **xray_wavelength** : XRD source wavelength for pymatgen option.\n",
    "- **xrd_sigma** : smearing factor (default : 0.5)\n",
    "- **bool_gsas** : XRD is generated from GSAS-II (True). Otherwise, it is generated from pymatgen (False)\n",
    "- **volume_list** : insert volume list for cosine similarity, such as 0.90, 0.95, 1.00, 1.05, 1.10\n",
    "\n",
    "#### INST_XRD.PRM (necessary when bool_gsas is True)"
   ]
  },
  {
   "cell_type": "markdown",
   "id": "1edb9418-8a54-4c64-b313-28cff80351c5",
   "metadata": {},
   "source": [
    "### Check Specific folder\n",
    "\n",
    "In Specific folder, xrd target csv file is located. (xrd_target.csv)\n",
    "\n",
    "### Check Seeds folder\n",
    "\n",
    "In Seeds folder, seed file (structure for inserting as good candidate) is located with name of POSCARS_N (inserted in N-th cycle).\n",
    "- ex) POSCARS_3 : This means the seed structure will be inserted at the 3rd generation cycle.\n"
   ]
  },
  {
   "cell_type": "code",
   "execution_count": 2,
   "id": "45249f28-30a2-475b-a843-4afcfd118da7",
   "metadata": {},
   "outputs": [
    {
     "name": "stdout",
     "output_type": "stream",
     "text": [
      "Seed\r\n",
      "1.0\r\n",
      "5.630000 0.000000 0.000000\r\n",
      "0.000000 5.630000 0.000000\r\n",
      "0.000000 0.000000 5.630000\r\n",
      "Na Cl\r\n",
      "4 4\r\n",
      "direct\r\n",
      "0.000000 0.000000 0.000000 \r\n",
      "0.000000 0.500000 0.500000 \r\n",
      "0.500000 0.000000 0.500000 \r\n",
      "0.500000 0.500000 0.000000 \r\n",
      "0.000000 0.500000 0.000000\r\n",
      "0.000000 0.000000 0.500000 \r\n",
      "0.500000 0.500000 0.500000 \r\n",
      "0.500000 0.000000 0.000000 \r\n"
     ]
    }
   ],
   "source": [
    "!cat Seeds/POSCARS_3"
   ]
  },
  {
   "cell_type": "code",
   "execution_count": 3,
   "id": "14598b5e-ad89-49e1-874f-ed397af54c3e",
   "metadata": {},
   "outputs": [
    {
     "name": "stdout",
     "output_type": "stream",
     "text": [
      "1.000000000000000021e-02,1.000000000000000000e+00\r\n",
      "2.000000000000000042e-02,1.000000000000000000e+00\r\n",
      "2.999999999999999889e-02,1.000000000000000000e+00\r\n",
      "4.000000000000000083e-02,1.000000000000000000e+00\r\n",
      "5.000000000000000278e-02,1.000000000000000000e+00\r\n",
      "6.000000000000000472e-02,1.000000000000000000e+00\r\n",
      "6.999999999999999278e-02,1.000000000000000000e+00\r\n",
      "8.000000000000000167e-02,1.000000000000000000e+00\r\n",
      "8.999999999999999667e-02,1.000000000000000000e+00\r\n",
      "9.999999999999999167e-02,1.000000000000000000e+00\r\n",
      "1.100000000000000006e-01,1.000000000000000000e+00\r\n",
      "1.199999999999999956e-01,1.000000000000000000e+00\r\n",
      "1.300000000000000044e-01,1.000000000000000000e+00\r\n",
      "1.400000000000000133e-01,1.000000000000000000e+00\r\n",
      "1.500000000000000222e-01,1.000000000000000000e+00\r\n",
      "1.600000000000000033e-01,1.000000000000000000e+00\r\n",
      "1.700000000000000122e-01,1.000000000000000000e+00\r\n",
      "1.800000000000000211e-01,1.000000000000000000e+00\r\n",
      "1.900000000000000022e-01,1.000000000000000000e+00\r\n",
      "2.000000000000000111e-01,1.000000000000000000e+00\r\n",
      "cat: 書き込みエラー: Broken pipe\r\n"
     ]
    }
   ],
   "source": [
    "!cat Specific/xrd_target.csv |head -20"
   ]
  },
  {
   "cell_type": "markdown",
   "id": "b8b93b17-8fb6-48e4-bbc6-20aa1aed9e7c",
   "metadata": {},
   "source": [
    "\n",
    "### Run USPEX\n",
    "\n",
    "Execute USPEX.\n",
    "\n",
    "> ./ux-test.sh &\n",
    "\n",
    "It runs until USPEX_IS_DONE file is generated.\n"
   ]
  },
  {
   "cell_type": "code",
   "execution_count": 1,
   "id": "2c96760e-d37a-4d92-b469-f5b98ce21010",
   "metadata": {},
   "outputs": [],
   "source": [
    "%%bash\n",
    "./ux-test.sh &"
   ]
  },
  {
   "cell_type": "markdown",
   "id": "3033de24-76b0-47b5-bef7-4da189d69d76",
   "metadata": {},
   "source": [
    "### Check result.\n",
    "\n",
    "If USPEX_IS_DONE file is generated, USPEX is finished well.\n",
    "\n",
    "\n",
    "### Check results_N folder\n",
    "\n",
    "At ./results_N folder, result files are located.\n",
    "\n",
    "- BESTIndividuals file in results_N folder : It shows the best structure for each generation.\n",
    "- goodStructures file in results_N folder : It shows fitness in order.\n",
    "- ./CalcFoldTemp-allraw folder : raw result files and all structures are located.\n",
    "\n",
    "### Check rawdata\n",
    "\n",
    "Rawdata is generated/located at ./CalcFoldTemp-allraw\n",
    "The best structure can be extracted from CalcFoldTemp-allraw folder."
   ]
  },
  {
   "cell_type": "code",
   "execution_count": 2,
   "id": "0df9c677-a3d6-45de-bc20-7adcf41243e3",
   "metadata": {},
   "outputs": [
    {
     "name": "stdout",
     "output_type": "stream",
     "text": [
      "AuxiliaryFiles\t\t   Parameters.txt\t    gatheredPOSCARS_unrelaxed\r\n",
      "BESTIndividuals\t\t   Properties\t\t    generation1\r\n",
      "BESTgatheredPOSCARS\t   Seeds_history\t    generation2\r\n",
      "BESTgatheredPOSCARS_order  USPEX.mat\t\t    generation3\r\n",
      "Individuals\t\t   USPEX.mat.backup\t    goodStructures\r\n",
      "OUTPUT.txt\t\t   compositionStatistic     goodStructures_POSCARS\r\n",
      "POOL.mat\t\t   enthalpies_complete.dat  origin\r\n",
      "POOL.mat.backup\t\t   gatheredPOSCARS\t    symmetrized_structures.cif\r\n",
      "POSCAR\t\t\t   gatheredPOSCARS_order\r\n"
     ]
    }
   ],
   "source": [
    "!ls ./results1/"
   ]
  },
  {
   "cell_type": "code",
   "execution_count": 3,
   "id": "d1832527-4c06-45b5-bbd3-d49b37413ad5",
   "metadata": {},
   "outputs": [
    {
     "name": "stdout",
     "output_type": "stream",
     "text": [
      "Gen   ID    Origin   Composition    Enthalpy   Volume  Density   Fitness   KPOINTS  SYMM  Q_entr A_order S_order\r\n",
      "                                      (eV)     (A^3)  (g/cm^3)\r\n",
      "  1    1   Random    [     4  4  ] 100000.000   231.446   1.677     -0.712 [ 1  1  1] 186  0.148  3.623  3.122\r\n",
      "  2   11 keptBest    [     4  4  ] 100000.000   231.446   1.677     -0.712 [ 1  1  1] 186  0.148  3.623  3.122\r\n",
      "  3   18   Seeds     [     4  4  ] 100000.000   178.454   2.175     -1.000 [ 1  1  1] 225 -0.000  6.275  6.278\r\n"
     ]
    }
   ],
   "source": [
    "!cat ./results1/BESTIndividuals"
   ]
  },
  {
   "cell_type": "code",
   "execution_count": 4,
   "id": "d12db895-3ef9-434d-be88-74ab54a97cd2",
   "metadata": {},
   "outputs": [
    {
     "name": "stdout",
     "output_type": "stream",
     "text": [
      "# generated using pymatgen\r\n",
      "data_NaCl\r\n",
      "_symmetry_space_group_name_H-M   'P 1'\r\n",
      "_cell_length_a   5.63000000\r\n",
      "_cell_length_b   5.63000000\r\n",
      "_cell_length_c   5.63000000\r\n",
      "_cell_angle_alpha   90.00000000\r\n",
      "_cell_angle_beta   90.00000000\r\n",
      "_cell_angle_gamma   90.00000000\r\n",
      "_symmetry_Int_Tables_number   1\r\n",
      "_chemical_formula_structural   NaCl\r\n",
      "_chemical_formula_sum   'Na4 Cl4'\r\n",
      "_cell_volume   178.45354700\r\n",
      "_cell_formula_units_Z   4\r\n",
      "loop_\r\n",
      " _symmetry_equiv_pos_site_id\r\n",
      " _symmetry_equiv_pos_as_xyz\r\n",
      "  1  'x, y, z'\r\n",
      "loop_\r\n",
      " _atom_site_type_symbol\r\n",
      " _atom_site_label\r\n",
      " _atom_site_symmetry_multiplicity\r\n",
      " _atom_site_fract_x\r\n",
      " _atom_site_fract_y\r\n",
      " _atom_site_fract_z\r\n",
      " _atom_site_occupancy\r\n",
      "  Na  Na0  1  0.00000000  0.00000000  0.00000000  1.0\r\n",
      "  Na  Na1  1  0.00000000  0.50000000  0.50000000  1.0\r\n",
      "  Na  Na2  1  0.50000000  0.00000000  0.50000000  1.0\r\n",
      "  Na  Na3  1  0.50000000  0.50000000  0.00000000  1.0\r\n",
      "  Cl  Cl4  1  0.00000000  0.50000000  0.00000000  1.0\r\n",
      "  Cl  Cl5  1  0.00000000  0.00000000  0.50000000  1.0\r\n",
      "  Cl  Cl6  1  0.50000000  0.50000000  0.50000000  1.0\r\n",
      "  Cl  Cl7  1  0.50000000  0.00000000  0.00000000  1.0\r\n"
     ]
    }
   ],
   "source": [
    "!cat ./CalcFoldTemp-allraw/CONTCAR-volchanged-18.cif"
   ]
  },
  {
   "cell_type": "markdown",
   "id": "75a61609",
   "metadata": {},
   "source": [
    "Note that seed file with cosine similarity of XRD of 100% was prepared for this test calculation for the quick test. "
   ]
  },
  {
   "cell_type": "code",
   "execution_count": null,
   "id": "5c8fb9f2",
   "metadata": {},
   "outputs": [],
   "source": []
  }
 ],
 "metadata": {
  "kernelspec": {
   "display_name": "Python 3 (ipykernel)",
   "language": "python",
   "name": "python3"
  },
  "language_info": {
   "codemirror_mode": {
    "name": "ipython",
    "version": 3
   },
   "file_extension": ".py",
   "mimetype": "text/x-python",
   "name": "python",
   "nbconvert_exporter": "python",
   "pygments_lexer": "ipython3",
   "version": "3.7.12"
  }
 },
 "nbformat": 4,
 "nbformat_minor": 5
}
