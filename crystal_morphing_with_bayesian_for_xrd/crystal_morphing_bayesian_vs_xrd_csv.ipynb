{
 "cells": [
  {
   "cell_type": "markdown",
   "id": "43eae39c-04b0-4522-af4b-5e8986ced0e7",
   "metadata": {},
   "source": [
    "## Example for cystal_morphing_bayesian_vs_xrd_csv"
   ]
  },
  {
   "cell_type": "code",
   "execution_count": 4,
   "id": "desperate-shell",
   "metadata": {},
   "outputs": [
    {
     "name": "stdout",
     "output_type": "stream",
     "text": [
      "INPUT.csv           \u001b[0m\u001b[01;32mbo-opt-pdf-vs-exp-csv.py\u001b[0m*\n",
      "INPUT_allpairs.csv  crystal_interpolation_bayesian_vs_exp_csv_pdf.ipynb\n",
      "INPUT_limit.csv     \u001b[01;34mpdf_func\u001b[0m/\n",
      "INPUT_seq.csv       \u001b[01;34mstruct\u001b[0m/\n"
     ]
    }
   ],
   "source": [
    "ls"
   ]
  },
  {
   "cell_type": "markdown",
   "id": "enabling-anniversary",
   "metadata": {},
   "source": [
    "#### Prepare INPUT.csv\n",
    "- **target** : insert path of target csv file including XRD (2theta, XRD intensity)\n",
    "- **input_struct** : insert path of structures\n",
    "- (optional : structure_selection_pair is \"Limited\" case) <br>\n",
    "  **input_struct1** & **input_struct2** : insert path of structures seperated into two groups\n",
    "<br>\n",
    "\n",
    "- **num_init_data** : number of initial random data samples for Bayesian optimization\n",
    "- **num_core** : number of data for validation for Bayesian optimization, if >1, do parallel\n",
    "- **num_iter** : number of iteration number of Bayesian optimization\n",
    "- **initial_step_boolean** : generate initial points for Bayesian (0%, 25%, 50%, 75%, 100%)\n",
    "- **random_seed** : random seed for initial points (if initial_step_boolean exists, second step)\n",
    "<br>\n",
    "- **soap_max_steps** : maximum iteration of soap (default optimizer is steepest descent, if >15, it change to L-BFGS)\n",
    "- **multi_species** : if chemical elements >=2, set True\n",
    "<br>\n",
    "- **structure_selection_pair** : selection of input structures for exploration path <br>\n",
    "  True : All-pairs investgation, False : greedy algorithm, Limited : Limited-pairs investigation (see input_struct part)\n",
    "<br>\n",
    "- **xray_wavelength** : xray_wavelength : XRD source wavelength for pymatgen option\n",
    "- **volume_list** : insert volume list for cossine similarity, such as 0.90,0.95, 1.00, 1.05, 1.10\n",
    "- **xrd_sigma** : smearing factor (default : 0.5)\n",
    "<br>\n",
    "- **bool_gsas** : XRD is generated from GSAS-II (True). Otherwise, it is generated from pymatgen (False)\n",
    "<br>\n"
   ]
  },
  {
   "cell_type": "markdown",
   "id": "82e708cf",
   "metadata": {},
   "source": [
    "#### Prepare INST_XRD.PRM (necessary when bool_gsas is True)\n",
    "  5th row includes the information of x-ray source wavelength. This is prior to info. of additional_INPUT.csv."
   ]
  },
  {
   "cell_type": "code",
   "execution_count": 1,
   "id": "military-location",
   "metadata": {},
   "outputs": [
    {
     "name": "stdout",
     "output_type": "stream",
     "text": [
      "### structures ###\r\n",
      "target,struct/Li5BiO5.csv\r\n",
      "input_struct,struct/Li5BiO5_1.cif,struct/Li5BiO5_2.cif,struct/Li5BiO5_3.cif\r\n",
      "\r\n",
      "### bayesian parameter ###\r\n",
      "num_init_data,2\r\n",
      "num_core,4\r\n",
      "num_iter,4\r\n",
      "initial_step_boolean,True\r\n",
      "random_seed,99\r\n",
      "\r\n",
      "### soap parameter ###\r\n",
      "soap_max_steps,15\r\n",
      "multi_species,True\r\n",
      "\r\n",
      "### structure selection ###\r\n",
      "structure_selection_pair,False\r\n",
      "\r\n",
      "### xrd paprameter ####\r\n",
      "xray_wavelength,CuKa\r\n",
      "xrd_sigma,0.5\r\n",
      "volume_list,0.80,0.82,0.85,0.87,0.90,0.92,0.94,0.96,0.97,0.98,0.99,1.00,1.01,1.02,1.03,1.04,1.06,1.08,1.10,1.15,1.17,1.20\r\n",
      "\r\n",
      "### gsas use ###\r\n",
      "bool_gsas,True\r\n"
     ]
    }
   ],
   "source": [
    "cat INPUT.csv"
   ]
  },
  {
   "cell_type": "markdown",
   "id": "given-tucson",
   "metadata": {},
   "source": [
    "#### Run Bayesian\n",
    "\n",
    "> python morphing_with_bo_vs_xrd_csv.py |tee log"
   ]
  },
  {
   "cell_type": "markdown",
   "id": "7b1ea808-4341-44a7-b323-f4a449116568",
   "metadata": {},
   "source": [
    "### Example of structure_selection_pair,False : greedy algorithm\n",
    "\n",
    "Choose two input structures with the highest cosine similarity of XRD. <br>\n",
    "Then, morphing with bayesian is performed. <br>\n",
    "Then, the newly generated intermediate structure is choosen as the another input structure, and the morphing with bayesian is performed."
   ]
  },
  {
   "cell_type": "code",
   "execution_count": 3,
   "id": "competitive-single",
   "metadata": {},
   "outputs": [],
   "source": [
    "!cp INPUT_greedy.csv INPUT.csv   ### prepare INPUT.csv\n",
    "!python ./morphing_with_bo_vs_xrd_csv.py > log-greedy   ### run"
   ]
  },
  {
   "cell_type": "markdown",
   "id": "accomplished-nudist",
   "metadata": {},
   "source": [
    "#### Check result\n",
    "Cosine similarity of the input structure can be simply checked. (for example, 79.1%, 76.8%, 73.8%) <br>\n",
    "Results are at folder of output files. <br>\n",
    "Cosine similarity of the output structures were improved. (for example, 87.4%, 89.5%)"
   ]
  },
  {
   "cell_type": "code",
   "execution_count": 8,
   "id": "treated-possession",
   "metadata": {},
   "outputs": [
    {
     "name": "stdout",
     "output_type": "stream",
     "text": [
      "-----cs_list of input structures :  [0.7914279417872684, 0.768256946541049, 0.7383764065271623]\r\n"
     ]
    }
   ],
   "source": [
    "!grep 'cs_list of input' log-greedy|head -1"
   ]
  },
  {
   "cell_type": "code",
   "execution_count": 11,
   "id": "215d0a47",
   "metadata": {},
   "outputs": [
    {
     "name": "stdout",
     "output_type": "stream",
     "text": [
      "gpx file saved as /home/e1739/crystal_interpolation_bayesian_vs_exp_csv_cleaning_230614_Li5BiO5_ver/gsas-tmp/32736_sim.gpx\r\n",
      "volume, volratio, cs :  156.65879583262577 1.2 0.299492853237875\r\n",
      "---cs-matrix-max-and-vol--- 0.89539197631936 1.0\r\n",
      "Found : cos_similarity = 0.89539197631936 1.0 at ratio =  [13.23333011]\r\n",
      "--------\r\n",
      "struct_path\r\n",
      "['struct/Li5BiO5_1.cif', 'struct/Li5BiO5_2.cif', 'struct/Li5BiO5_3.cif', 'output/Li5BiO5_search/Li5BiO5_A_0_vol.cif', 'output/Li5BiO5_search/Li5BiO5_B_1_vol.cif']\r\n",
      "\r\n",
      "===== Ending : output/Li5BiO5_search =====\r\n",
      "\r\n"
     ]
    }
   ],
   "source": [
    "!tail log-greedy"
   ]
  },
  {
   "cell_type": "code",
   "execution_count": 14,
   "id": "e6a7577d-57e8-4fe3-8eea-d661af4d5a7c",
   "metadata": {},
   "outputs": [
    {
     "name": "stdout",
     "output_type": "stream",
     "text": [
      "A,output/Li5BiO5_search/Li5BiO5_1_to_Li5BiO5_2_4944_0\r\n",
      "B,output/Li5BiO5_search/Li5BiO5_A_0_vol_to_Li5BiO5_3_1323_1\r\n"
     ]
    }
   ],
   "source": [
    "!cat output/Li5BiO5_search/output_list.csv"
   ]
  },
  {
   "cell_type": "code",
   "execution_count": 15,
   "id": "chronic-validation",
   "metadata": {},
   "outputs": [
    {
     "name": "stdout",
     "output_type": "stream",
     "text": [
      "output/Li5BiO5_search/Li5BiO5_A_0_vol.cif,0.8739169011832949\r\n",
      "output/Li5BiO5_search/Li5BiO5_B_1_vol.cif,0.89539197631936\r\n"
     ]
    }
   ],
   "source": [
    "!cat output/Li5BiO5_search/all_cossim_output.csv"
   ]
  },
  {
   "cell_type": "code",
   "execution_count": 16,
   "id": "9121af55-82e7-4348-b33e-0ead91c97ff6",
   "metadata": {},
   "outputs": [
    {
     "name": "stdout",
     "output_type": "stream",
     "text": [
      "Li5BiO5_A_0_vol.cif  Li5BiO5_B_1_vol.cif\r\n"
     ]
    }
   ],
   "source": [
    "ls output/Li5BiO5_search/found_structure"
   ]
  },
  {
   "cell_type": "code",
   "execution_count": 17,
   "id": "f5703666-46b7-400e-84b7-6f473973411a",
   "metadata": {},
   "outputs": [],
   "source": [
    "!mv output output-greedy"
   ]
  },
  {
   "cell_type": "markdown",
   "id": "c3afdcbc-3abc-4398-a3ae-c34eca5d6bba",
   "metadata": {},
   "source": [
    "- Check result\n",
    "\n",
    "Results are at folder of output files\n"
   ]
  },
  {
   "cell_type": "markdown",
   "id": "683b8011-3611-4038-beba-45a37f7b64f2",
   "metadata": {},
   "source": [
    "### Example of structure_selection_pair, True : all pairs investigation\n",
    "\n",
    "Change INPUT.csv  file => \"structure_selection_pair,True\" using editor (INPUT_allpairs.csv is prepared.)\n",
    "\n",
    "Among all the pairs of input structures, morphing with bayesian will be performed."
   ]
  },
  {
   "cell_type": "code",
   "execution_count": 18,
   "id": "38215234-29c7-4e4b-bb44-6271d841552d",
   "metadata": {},
   "outputs": [],
   "source": [
    "!cp INPUT_allpairs.csv INPUT.csv\n",
    "!python ./morphing_with_bo_vs_xrd_csv.py > log-allpairs"
   ]
  },
  {
   "cell_type": "code",
   "execution_count": 19,
   "id": "a611c550-3cec-4b1b-92ab-f787bc02bf71",
   "metadata": {},
   "outputs": [
    {
     "name": "stdout",
     "output_type": "stream",
     "text": [
      "gpx file saved as /home/e1739/crystal_interpolation_bayesian_vs_exp_csv_cleaning_230614_Li5BiO5_ver/gsas-tmp/5227_sim.gpx\r\n",
      "volume, volratio, cs :  148.20574916758338 1.2 0.4499551854675649\r\n",
      "---cs-matrix-max-and-vol--- 0.768256946541049 1.0\r\n",
      "Found : cos_similarity = 0.768256946541049 1.0 at ratio =  [100.]\r\n",
      "--------\r\n",
      "struct_path\r\n",
      "['struct/Li5BiO5_1.cif', 'struct/Li5BiO5_2.cif', 'struct/Li5BiO5_3.cif', 'output/Li5BiO5_search/Li5BiO5_1_to_Li5BiO5_2_4944_0_vol.cif', 'output/Li5BiO5_search/Li5BiO5_1_to_Li5BiO5_3_0000_1_vol.cif', 'output/Li5BiO5_search/Li5BiO5_2_to_Li5BiO5_1_10000_2_vol.cif', 'output/Li5BiO5_search/Li5BiO5_2_to_Li5BiO5_3_0640_3_vol.cif', 'output/Li5BiO5_search/Li5BiO5_3_to_Li5BiO5_1_9941_4_vol.cif', 'output/Li5BiO5_search/Li5BiO5_3_to_Li5BiO5_2_10000_5_vol.cif']\r\n",
      "\r\n",
      "===== Ending : output/Li5BiO5_search =====\r\n",
      "\r\n"
     ]
    }
   ],
   "source": [
    "!tail log-allpairs"
   ]
  },
  {
   "cell_type": "code",
   "execution_count": 20,
   "id": "ac68cd6e-4412-4d20-ac82-c168cc40abeb",
   "metadata": {},
   "outputs": [
    {
     "name": "stdout",
     "output_type": "stream",
     "text": [
      "output/Li5BiO5_search/Li5BiO5_1_to_Li5BiO5_2_4944_0_vol.cif,0.8739169011832949\r\n",
      "output/Li5BiO5_search/Li5BiO5_1_to_Li5BiO5_3_0000_1_vol.cif,0.7914279417872684\r\n",
      "output/Li5BiO5_search/Li5BiO5_2_to_Li5BiO5_1_10000_2_vol.cif,0.7914279417872684\r\n",
      "output/Li5BiO5_search/Li5BiO5_2_to_Li5BiO5_3_0640_3_vol.cif,0.770830595696563\r\n",
      "output/Li5BiO5_search/Li5BiO5_3_to_Li5BiO5_1_9941_4_vol.cif,0.820871445193972\r\n",
      "output/Li5BiO5_search/Li5BiO5_3_to_Li5BiO5_2_10000_5_vol.cif,0.768256946541049\r\n"
     ]
    }
   ],
   "source": [
    "!cat output/Li5BiO5_search/all_cossim_output.csv"
   ]
  },
  {
   "cell_type": "code",
   "execution_count": 21,
   "id": "8a6e533e-b8f4-4642-aab1-fa6b4a527fe4",
   "metadata": {},
   "outputs": [
    {
     "name": "stdout",
     "output_type": "stream",
     "text": [
      "Li5BiO5_1_to_Li5BiO5_2_4944_0_vol.cif\tLi5BiO5_2_to_Li5BiO5_3_0640_3_vol.cif\r\n",
      "Li5BiO5_1_to_Li5BiO5_3_0000_1_vol.cif\tLi5BiO5_3_to_Li5BiO5_1_9941_4_vol.cif\r\n",
      "Li5BiO5_2_to_Li5BiO5_1_10000_2_vol.cif\tLi5BiO5_3_to_Li5BiO5_2_10000_5_vol.cif\r\n"
     ]
    }
   ],
   "source": [
    "!ls output/Li5BiO5_search/found_structure"
   ]
  },
  {
   "cell_type": "code",
   "execution_count": 22,
   "id": "47328c81-eab8-433d-b017-b31a554c7ef0",
   "metadata": {},
   "outputs": [],
   "source": [
    "!mv output output-allpairs"
   ]
  },
  {
   "cell_type": "markdown",
   "id": "413d3f63-faa2-4f87-a98f-4bd923dc6129",
   "metadata": {},
   "source": [
    "- Check result\n",
    "\n",
    "Results are at folder of output files"
   ]
  },
  {
   "cell_type": "markdown",
   "id": "7ac0d418-61cc-4507-a6a2-f30c3698cb9e",
   "metadata": {},
   "source": [
    "### Example of structure_selection_pair, Limited : Limited pairs\n",
    "\n",
    "Change INPUT.csv  file => \"structure_selection_pair,limited\" using editor <br>\n",
    "In addition, input_struct => input_struct1 & input_struct2  (INPUT_limit.csv is prepared.)\n",
    "\n",
    "Among selected pairs betwen input1 and input2 structures, morphing with bayesian will be performed."
   ]
  },
  {
   "cell_type": "code",
   "execution_count": 24,
   "id": "40f7140e-5ace-4075-839b-7e54991653e3",
   "metadata": {},
   "outputs": [],
   "source": [
    "!cp INPUT_limitedpairs.csv INPUT.csv\n",
    "!python ./morphing_with_bo_vs_xrd_csv.py > log-limited-pairs"
   ]
  },
  {
   "cell_type": "code",
   "execution_count": 25,
   "id": "ee51dd45-29e6-472c-b107-ba1df5f92bc2",
   "metadata": {},
   "outputs": [
    {
     "name": "stdout",
     "output_type": "stream",
     "text": [
      "gpx file saved as /home/e1739/crystal_interpolation_bayesian_vs_exp_csv_cleaning_230614_Li5BiO5_ver/gsas-tmp/19801_sim.gpx\r\n",
      "volume, volratio, cs :  148.20574916758338 1.2 0.4499551854675649\r\n",
      "---cs-matrix-max-and-vol--- 0.768256946541049 1.0\r\n",
      "Found : cos_similarity = 0.768256946541049 1.0 at ratio =  [100.]\r\n",
      "--------\r\n",
      "struct_path\r\n",
      "['struct/Li5BiO5_2.cif', 'struct/Li5BiO5_1.cif', 'struct/Li5BiO5_3.cif', 'output/Li5BiO5_search/Li5BiO5_2_to_Li5BiO5_1_10000_0_vol.cif', 'output/Li5BiO5_search/Li5BiO5_1_to_Li5BiO5_2_4944_1_vol.cif', 'output/Li5BiO5_search/Li5BiO5_2_to_Li5BiO5_3_0640_2_vol.cif', 'output/Li5BiO5_search/Li5BiO5_3_to_Li5BiO5_2_10000_3_vol.cif']\r\n",
      "\r\n",
      "===== Ending : output/Li5BiO5_search =====\r\n",
      "\r\n"
     ]
    }
   ],
   "source": [
    "!tail log-limited-pairs"
   ]
  },
  {
   "cell_type": "code",
   "execution_count": 26,
   "id": "ce8e967a-cbd9-4858-b5ec-24dc77b662db",
   "metadata": {},
   "outputs": [
    {
     "name": "stdout",
     "output_type": "stream",
     "text": [
      "output/Li5BiO5_search/Li5BiO5_2_to_Li5BiO5_1_10000_0_vol.cif,0.7914279417872684\r\n",
      "output/Li5BiO5_search/Li5BiO5_1_to_Li5BiO5_2_4944_1_vol.cif,0.8739169011832949\r\n",
      "output/Li5BiO5_search/Li5BiO5_2_to_Li5BiO5_3_0640_2_vol.cif,0.770830595696563\r\n",
      "output/Li5BiO5_search/Li5BiO5_3_to_Li5BiO5_2_10000_3_vol.cif,0.768256946541049\r\n"
     ]
    }
   ],
   "source": [
    "!cat output/Li5BiO5_search/all_cossim_output.csv"
   ]
  },
  {
   "cell_type": "code",
   "execution_count": 27,
   "id": "d1d876f3-5338-4862-bd0f-89482f8891e6",
   "metadata": {},
   "outputs": [
    {
     "name": "stdout",
     "output_type": "stream",
     "text": [
      "Li5BiO5_1_to_Li5BiO5_2_4944_1_vol.cif\tLi5BiO5_2_to_Li5BiO5_3_0640_2_vol.cif\r\n",
      "Li5BiO5_2_to_Li5BiO5_1_10000_0_vol.cif\tLi5BiO5_3_to_Li5BiO5_2_10000_3_vol.cif\r\n"
     ]
    }
   ],
   "source": [
    "!ls output/Li5BiO5_search/found_structure"
   ]
  },
  {
   "cell_type": "code",
   "execution_count": 28,
   "id": "c6552bbe-4e88-441d-962f-30f858c2e45a",
   "metadata": {},
   "outputs": [],
   "source": [
    "!mv output output-limited-pairs"
   ]
  },
  {
   "cell_type": "markdown",
   "id": "46d39f66-8a23-409f-8e60-aa09dc47cc2f",
   "metadata": {},
   "source": [
    "- Check result\n",
    "\n",
    "Results are at folder of output files"
   ]
  },
  {
   "cell_type": "code",
   "execution_count": null,
   "id": "0e0c52d7",
   "metadata": {},
   "outputs": [],
   "source": []
  }
 ],
 "metadata": {
  "kernelspec": {
   "display_name": "Python 3 (ipykernel)",
   "language": "python",
   "name": "python3"
  },
  "language_info": {
   "codemirror_mode": {
    "name": "ipython",
    "version": 3
   },
   "file_extension": ".py",
   "mimetype": "text/x-python",
   "name": "python",
   "nbconvert_exporter": "python",
   "pygments_lexer": "ipython3",
   "version": "3.7.12"
  }
 },
 "nbformat": 4,
 "nbformat_minor": 5
}
