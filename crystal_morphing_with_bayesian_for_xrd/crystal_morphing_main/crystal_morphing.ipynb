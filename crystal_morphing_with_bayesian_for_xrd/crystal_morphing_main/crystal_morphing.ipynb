{
 "cells": [
  {
   "cell_type": "markdown",
   "id": "43eae39c-04b0-4522-af4b-5e8986ced0e7",
   "metadata": {},
   "source": [
    "## Example for crystal morphing"
   ]
  },
  {
   "cell_type": "code",
   "execution_count": 2,
   "id": "desperate-shell",
   "metadata": {},
   "outputs": [
    {
     "name": "stdout",
     "output_type": "stream",
     "text": [
      "INPUT.csv     _crystal_morphing.py    \u001b[0m\u001b[01;32mcrystal_morphing.py\u001b[0m*  \u001b[01;34msoap\u001b[0m/\r\n",
      "README.md     \u001b[01;34mbin\u001b[0m/                    \u001b[01;34mcrystal_structure\u001b[0m/\r\n",
      "\u001b[01;34m__pycache__\u001b[0m/  crystal_morphing.ipynb  \u001b[01;34mexamination\u001b[0m/\r\n"
     ]
    }
   ],
   "source": [
    "ls"
   ]
  },
  {
   "cell_type": "markdown",
   "id": "enabling-anniversary",
   "metadata": {},
   "source": [
    "#### Prepare INPUT.csv\n",
    "\n",
    "- **struct1**: path to the objective structure's file\n",
    "\n",
    "- **struct2**: path to the initial structure's file\n",
    "\n",
    "- **soap_max_steps**: number of iterarion (default optimizer is steepest descent, if >15, it change to L-BFGS)\n",
    "\n",
    "- **multi_species**: True for multi species case (e.g. MgO), or False for single species case (e.g. C)\n",
    "\n",
    "#### Check other parameters in crystal_morphing.py\n",
    "\n",
    "- **sub_steps**: number of step to update lattice vectors and atom positions in each iterarion\n",
    "\n",
    "- **delta_t**: step size for updating lattice vectors\n",
    "\n",
    "- **delta_r**: step size for updating atom positions\n",
    "\n",
    "- **sw_SD**: parameter to switch stochastic descent and BFGS methods to update structure parameters\n",
    "\n",
    "- **verbose**: if True, output detailed information while calculation"
   ]
  },
  {
   "cell_type": "code",
   "execution_count": 1,
   "id": "military-location",
   "metadata": {},
   "outputs": [
    {
     "name": "stdout",
     "output_type": "stream",
     "text": [
      "### structures ###\r\n",
      "struct1,./examination/MgO_1.cif\r\n",
      "struct2,./examination/MgO_2.cif\r\n",
      "\r\n",
      "### soap parameter ###\r\n",
      "soap_max_steps,20\r\n",
      "multi_species,True\r\n",
      "\r\n"
     ]
    }
   ],
   "source": [
    "cat INPUT.csv"
   ]
  },
  {
   "cell_type": "markdown",
   "id": "given-tucson",
   "metadata": {},
   "source": [
    "#### Run \n",
    "\n",
    "> python crystal_morphing.py > log"
   ]
  },
  {
   "cell_type": "code",
   "execution_count": 2,
   "id": "competitive-single",
   "metadata": {},
   "outputs": [],
   "source": [
    "!python crystal_morphing.py > log"
   ]
  },
  {
   "cell_type": "markdown",
   "id": "accomplished-nudist",
   "metadata": {},
   "source": [
    "#### Check result\n",
    "\n",
    "Results are at folder of output files "
   ]
  },
  {
   "cell_type": "code",
   "execution_count": 3,
   "id": "treated-possession",
   "metadata": {},
   "outputs": [
    {
     "name": "stdout",
     "output_type": "stream",
     "text": [
      "      lengths= (1.3913958198491152, 1.368941686206221, 1.3628732736288833) => (1.1795327911203273, 1.193534994940948, 1.8761480862565716)\r\n",
      "      angles = (86.29073486690615, 91.80956959301203, 88.55875058854254) => (90.00000000000001, 90.00000000000001, 71.10000000000001)\r\n",
      "    Distance\r\n",
      "      Power Spectra =  0.10415938077769146\r\n",
      "               SOAP =  0.10344739802011814\r\n",
      "                L11 =  2.981790790226408e-05\r\n",
      "                L12 =  2.929996617949537e-05\r\n",
      "                L22 =  2.910161499164668e-05\r\n",
      "\r\n",
      "Normal ends.\r\n"
     ]
    }
   ],
   "source": [
    "!tail log"
   ]
  },
  {
   "cell_type": "code",
   "execution_count": 7,
   "id": "chronic-validation",
   "metadata": {},
   "outputs": [
    {
     "name": "stdout",
     "output_type": "stream",
     "text": [
      "test_1.cif   test_13.cif  test_17.cif  test_20.cif  test_6.cif\r\n",
      "test_10.cif  test_14.cif  test_18.cif  test_3.cif   test_7.cif\r\n",
      "test_11.cif  test_15.cif  test_19.cif  test_4.cif   test_8.cif\r\n",
      "test_12.cif  test_16.cif  test_2.cif   test_5.cif   test_9.cif\r\n"
     ]
    }
   ],
   "source": [
    "!ls ./examination/tmp"
   ]
  },
  {
   "cell_type": "code",
   "execution_count": null,
   "id": "1c560fdc-92e8-46c6-b483-56a504174658",
   "metadata": {},
   "outputs": [],
   "source": []
  }
 ],
 "metadata": {
  "kernelspec": {
   "display_name": "Python 3 (ipykernel)",
   "language": "python",
   "name": "python3"
  },
  "language_info": {
   "codemirror_mode": {
    "name": "ipython",
    "version": 3
   },
   "file_extension": ".py",
   "mimetype": "text/x-python",
   "name": "python",
   "nbconvert_exporter": "python",
   "pygments_lexer": "ipython3",
   "version": "3.7.12"
  }
 },
 "nbformat": 4,
 "nbformat_minor": 5
}
